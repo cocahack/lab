{
 "cells": [
  {
   "metadata": {},
   "cell_type": "markdown",
   "source": [
    "# Chapter 4: 실제 데이터를 텐서로 표현해보기\n",
    "\n"
   ],
   "id": "d229ff21fb7773bc"
  },
  {
   "metadata": {},
   "cell_type": "markdown",
   "source": [
    "## 이미지를 텐서로\n",
    "\n",
    "### 특징\n",
    "\n",
    "- 이미지는 픽셀 단위의 높이와 너비를 가지는 그리드에 나열된 여러 개의 스칼라 값으로 표현된다.\n",
    "- 한 픽셀에 대해 하나의 스칼라 값을 가지는 흑백 이미지부터 여러 색을 표현하기 위해 여러 개의 스칼라 값을 가지기도 한다.\n",
    "- 색상 외에, 카메라에서 얻은 심도 등 추가적인 피처가 포함되기도 한다.\n"
   ],
   "id": "b62e8111765d020e"
  },
  {
   "cell_type": "code",
   "id": "initial_id",
   "metadata": {
    "collapsed": true,
    "ExecuteTime": {
     "end_time": "2025-06-18T09:48:13.334316Z",
     "start_time": "2025-06-18T09:48:10.654592Z"
    }
   },
   "source": [
    "import imageio\n",
    "import numpy as np\n",
    "import torch"
   ],
   "outputs": [],
   "execution_count": 1
  },
  {
   "metadata": {
    "ExecuteTime": {
     "end_time": "2025-06-15T11:47:25.057881Z",
     "start_time": "2025-06-15T11:47:25.046060Z"
    }
   },
   "cell_type": "code",
   "source": [
    "img_arr = imageio.imread('data/p1ch4/image-dog/bobby.jpg')\n",
    "img_arr.shape\n"
   ],
   "id": "ead82523f5e2b386",
   "outputs": [
    {
     "name": "stderr",
     "output_type": "stream",
     "text": [
      "/var/folders/4l/lb4d41pn56d4wnwsr9rxl20c0000gn/T/ipykernel_10244/3653726803.py:1: DeprecationWarning: Starting with ImageIO v3 the behavior of this function will switch to that of iio.v3.imread. To keep the current behavior (and make this warning disappear) use `import imageio.v2 as imageio` or call `imageio.v2.imread` directly.\n",
      "  img_arr = imageio.imread('data/p1ch4/image-dog/bobby.jpg')\n"
     ]
    },
    {
     "data": {
      "text/plain": [
       "(720, 1280, 3)"
      ]
     },
     "execution_count": 3,
     "metadata": {},
     "output_type": "execute_result"
    }
   ],
   "execution_count": 3
  },
  {
   "metadata": {
    "ExecuteTime": {
     "end_time": "2025-06-16T06:12:11.518118Z",
     "start_time": "2025-06-16T06:12:11.515417Z"
    }
   },
   "cell_type": "code",
   "source": [
    "# 채널, 높이, 너비 순으로 차원을 나열해야 하므로, permute를 사용하여 차원을 변경한다.\n",
    "img = torch.from_numpy(img_arr)\n",
    "out = img.permute(2, 0, 1)\n",
    "print(id(img.storage().data_ptr()), id(out.storage().data_ptr()))"
   ],
   "id": "b45234a1b7cdcb58",
   "outputs": [
    {
     "name": "stdout",
     "output_type": "stream",
     "text": [
      "4842263568 4842263568\n"
     ]
    }
   ],
   "execution_count": 9
  },
  {
   "metadata": {},
   "cell_type": "markdown",
   "source": "`permute`와 `transpose`의 차이점은 `permute`는 모든 차원을 재배열할 수 있는 반면, `transpose`는 두 차원만 교환한다는 점이다.",
   "id": "8faa26e4a35d2a38"
  },
  {
   "metadata": {
    "ExecuteTime": {
     "end_time": "2025-06-16T05:52:56.011461Z",
     "start_time": "2025-06-16T05:52:56.007433Z"
    }
   },
   "cell_type": "code",
   "source": [
    "batch_size = 3\n",
    "batch = torch.zeros(batch_size, 3, 256, 256, dtype=torch.uint8)"
   ],
   "id": "6b0f15d811397996",
   "outputs": [],
   "execution_count": 5
  },
  {
   "metadata": {
    "ExecuteTime": {
     "end_time": "2025-06-16T05:55:38.337599Z",
     "start_time": "2025-06-16T05:55:38.322683Z"
    }
   },
   "cell_type": "code",
   "source": [
    "### 배치 입력\n",
    "import os\n",
    "\n",
    "data_dir = 'data/p1ch4/image-cats'\n",
    "filenames = [name for name in os.listdir(data_dir) if os.path.splitext(name)[-1] == '.png']\n",
    "\n",
    "for i, filename in enumerate(filenames):\n",
    "    img_arr = imageio.imread(os.path.join(data_dir, filename))\n",
    "    img_t = torch.from_numpy(img_arr)\n",
    "    img_t = img_t.permute(2, 0, 1)\n",
    "    img_t = img_t[:3] # 투명도, 알파 채널 등이 포함된 이미지라도 RGB 채널, 높이, 너비만을 사용한다\n",
    "    batch[i] = img_t"
   ],
   "id": "1cdf12d54f06a4b4",
   "outputs": [
    {
     "name": "stderr",
     "output_type": "stream",
     "text": [
      "/var/folders/4l/lb4d41pn56d4wnwsr9rxl20c0000gn/T/ipykernel_10244/1534984906.py:8: DeprecationWarning: Starting with ImageIO v3 the behavior of this function will switch to that of iio.v3.imread. To keep the current behavior (and make this warning disappear) use `import imageio.v2 as imageio` or call `imageio.v2.imread` directly.\n",
      "  img_arr = imageio.imread(os.path.join(data_dir, filename))\n"
     ]
    }
   ],
   "execution_count": 7
  },
  {
   "metadata": {
    "ExecuteTime": {
     "end_time": "2025-06-16T06:20:05.945295Z",
     "start_time": "2025-06-16T06:20:05.937648Z"
    }
   },
   "cell_type": "code",
   "source": [
    "### 데이터 정규화\n",
    "# 첫 번째 방법. 단순히 최댓값으로 나누기\n",
    "batch = batch.float()\n",
    "batch /= 255.0  # 0-255 범위의 값을 0-1 범위로 정규화"
   ],
   "id": "1855667348c0914a",
   "outputs": [],
   "execution_count": 10
  },
  {
   "metadata": {
    "ExecuteTime": {
     "end_time": "2025-06-16T06:45:30.574085Z",
     "start_time": "2025-06-16T06:45:30.563646Z"
    }
   },
   "cell_type": "code",
   "source": [
    "# 두 번째 방법. 각 채널별로 평균과 표준편차를 이용한 정규화\n",
    "n_channels = batch.shape[1]\n",
    "for c in range(n_channels):\n",
    "    mean = torch.mean(batch[:, c])\n",
    "    std = torch.mean(batch[:, c])\n",
    "    batch[:, c] = (batch[:, c] - mean) / std  # 각 채널별로 정규화\n"
   ],
   "id": "2a5f18717c3982f8",
   "outputs": [],
   "execution_count": 13
  },
  {
   "metadata": {},
   "cell_type": "markdown",
   "source": [
    "※ `batch[:, c]` 해석\n",
    "\n",
    "- `:` 는 해당 차원 전체를 의미\n",
    "- `c` 는 두 번째 차원(채널)에 해당하는 인덱스"
   ],
   "id": "5a9a2f1952f31cd0"
  },
  {
   "metadata": {},
   "cell_type": "markdown",
   "source": [
    "## 3차원 이미지\n",
    "\n",
    "CT 스캔, MRI 등은 3차원 이미지로 표현된다. 이들은 2차원 이미지의 스택으로 볼 수 있다.\n",
    "\n",
    "채널 차원 뒤에 깊이 차원이 추가된다."
   ],
   "id": "fadce09a69176b92"
  },
  {
   "metadata": {
    "ExecuteTime": {
     "end_time": "2025-06-16T07:06:36.779191Z",
     "start_time": "2025-06-16T07:06:36.619698Z"
    }
   },
   "cell_type": "code",
   "source": [
    "import imageio\n",
    "\n",
    "dir_path = 'data/p1ch4/volumetric-dicom/2-LUNG 3.0  B70f-04083'\n",
    "vol_arr = imageio.volread(dir_path, 'DICOM')\n",
    "vol_arr.shape"
   ],
   "id": "7859432071d70ee9",
   "outputs": [
    {
     "name": "stdout",
     "output_type": "stream",
     "text": [
      "Reading DICOM (examining files): 99/99 files (100.0%)\n",
      "  Found 1 correct series.\n",
      "Reading DICOM (loading data): 99/99  (100.0%)\n"
     ]
    },
    {
     "data": {
      "text/plain": [
       "(99, 512, 512)"
      ]
     },
     "execution_count": 4,
     "metadata": {},
     "output_type": "execute_result"
    }
   ],
   "execution_count": 4
  },
  {
   "metadata": {
    "ExecuteTime": {
     "end_time": "2025-06-16T07:06:48.944002Z",
     "start_time": "2025-06-16T07:06:48.941305Z"
    }
   },
   "cell_type": "code",
   "source": [
    "# 채널 추가\n",
    "vol = torch.from_numpy(vol_arr)\n",
    "vol = torch.unsqueeze(vol, 0) # 맨 앞에 차원 추가\n",
    "\n",
    "vol.shape"
   ],
   "id": "529d3498bed0699f",
   "outputs": [
    {
     "data": {
      "text/plain": [
       "torch.Size([1, 99, 512, 512])"
      ]
     },
     "execution_count": 7,
     "metadata": {},
     "output_type": "execute_result"
    }
   ],
   "execution_count": 7
  },
  {
   "metadata": {},
   "cell_type": "markdown",
   "source": [
    "## 테이블 데이터\n",
    "\n",
    "스프레드시트 또는 CSV 파일, 데이터베이스의 데이터에 대한 입력 처리"
   ],
   "id": "e6931caf7cc1a529"
  },
  {
   "metadata": {
    "ExecuteTime": {
     "end_time": "2025-06-18T09:48:17.418565Z",
     "start_time": "2025-06-18T09:48:17.408574Z"
    }
   },
   "cell_type": "code",
   "source": [
    "import csv\n",
    "\n",
    "wine_path = 'data/p1ch4/tabular-wine/winequality-white.csv'\n",
    "wineq_numpy = np.loadtxt(wine_path, dtype=np.float32, delimiter=';', skiprows=1)\n",
    "\n",
    "wineq_numpy[:5]"
   ],
   "id": "c6357efbbd392304",
   "outputs": [
    {
     "data": {
      "text/plain": [
       "array([[7.000e+00, 2.700e-01, 3.600e-01, 2.070e+01, 4.500e-02, 4.500e+01,\n",
       "        1.700e+02, 1.001e+00, 3.000e+00, 4.500e-01, 8.800e+00, 6.000e+00],\n",
       "       [6.300e+00, 3.000e-01, 3.400e-01, 1.600e+00, 4.900e-02, 1.400e+01,\n",
       "        1.320e+02, 9.940e-01, 3.300e+00, 4.900e-01, 9.500e+00, 6.000e+00],\n",
       "       [8.100e+00, 2.800e-01, 4.000e-01, 6.900e+00, 5.000e-02, 3.000e+01,\n",
       "        9.700e+01, 9.951e-01, 3.260e+00, 4.400e-01, 1.010e+01, 6.000e+00],\n",
       "       [7.200e+00, 2.300e-01, 3.200e-01, 8.500e+00, 5.800e-02, 4.700e+01,\n",
       "        1.860e+02, 9.956e-01, 3.190e+00, 4.000e-01, 9.900e+00, 6.000e+00],\n",
       "       [7.200e+00, 2.300e-01, 3.200e-01, 8.500e+00, 5.800e-02, 4.700e+01,\n",
       "        1.860e+02, 9.956e-01, 3.190e+00, 4.000e-01, 9.900e+00, 6.000e+00]],\n",
       "      dtype=float32)"
      ]
     },
     "execution_count": 2,
     "metadata": {},
     "output_type": "execute_result"
    }
   ],
   "execution_count": 2
  },
  {
   "metadata": {
    "ExecuteTime": {
     "end_time": "2025-06-18T09:48:30.145576Z",
     "start_time": "2025-06-18T09:48:30.141815Z"
    }
   },
   "cell_type": "code",
   "source": [
    "# wineq_numpy 의 각 열에 대해 통계 자료를 출력\n",
    "for i in range(wineq_numpy.shape[1]):\n",
    "    col = wineq_numpy[:, i]\n",
    "    print(f'Column {i}: mean={col.mean():.2f}, std={col.std():.2f}, min={col.min():.2f}, max={col.max():.2f}')\n"
   ],
   "id": "60698e9a7e2ef392",
   "outputs": [
    {
     "name": "stdout",
     "output_type": "stream",
     "text": [
      "Column 0: mean=6.85, std=0.84, min=3.80, max=14.20\n",
      "Column 1: mean=0.28, std=0.10, min=0.08, max=1.10\n",
      "Column 2: mean=0.33, std=0.12, min=0.00, max=1.66\n",
      "Column 3: mean=6.39, std=5.07, min=0.60, max=65.80\n",
      "Column 4: mean=0.05, std=0.02, min=0.01, max=0.35\n",
      "Column 5: mean=35.31, std=17.01, min=2.00, max=289.00\n",
      "Column 6: mean=138.36, std=42.49, min=9.00, max=440.00\n",
      "Column 7: mean=0.99, std=0.00, min=0.99, max=1.04\n",
      "Column 8: mean=3.19, std=0.15, min=2.72, max=3.82\n",
      "Column 9: mean=0.49, std=0.11, min=0.22, max=1.08\n",
      "Column 10: mean=10.51, std=1.23, min=8.00, max=14.20\n",
      "Column 11: mean=5.88, std=0.89, min=3.00, max=9.00\n"
     ]
    }
   ],
   "execution_count": 3
  },
  {
   "metadata": {
    "ExecuteTime": {
     "end_time": "2025-06-18T09:50:56.030062Z",
     "start_time": "2025-06-18T09:50:56.025875Z"
    }
   },
   "cell_type": "code",
   "source": [
    "col_list = next(csv.reader(open(wine_path), delimiter=';'))\n",
    "\n",
    "wineq_numpy.shape, col_list"
   ],
   "id": "4d84d5ae7d3a2957",
   "outputs": [
    {
     "data": {
      "text/plain": [
       "((4898, 12),\n",
       " ['fixed acidity',\n",
       "  'volatile acidity',\n",
       "  'citric acid',\n",
       "  'residual sugar',\n",
       "  'chlorides',\n",
       "  'free sulfur dioxide',\n",
       "  'total sulfur dioxide',\n",
       "  'density',\n",
       "  'pH',\n",
       "  'sulphates',\n",
       "  'alcohol',\n",
       "  'quality'])"
      ]
     },
     "execution_count": 4,
     "metadata": {},
     "output_type": "execute_result"
    }
   ],
   "execution_count": 4
  },
  {
   "metadata": {
    "ExecuteTime": {
     "end_time": "2025-06-18T09:52:04.372984Z",
     "start_time": "2025-06-18T09:52:04.370131Z"
    }
   },
   "cell_type": "code",
   "source": [
    "wineq = torch.from_numpy(wineq_numpy)\n",
    "\n",
    "wineq.shape, wineq.dtype"
   ],
   "id": "b8a9ac1ade930883",
   "outputs": [
    {
     "data": {
      "text/plain": [
       "(torch.Size([4898, 12]), torch.float32)"
      ]
     },
     "execution_count": 5,
     "metadata": {},
     "output_type": "execute_result"
    }
   ],
   "execution_count": 5
  },
  {
   "metadata": {
    "ExecuteTime": {
     "end_time": "2025-06-18T09:58:45.293542Z",
     "start_time": "2025-06-18T09:58:45.284176Z"
    }
   },
   "cell_type": "code",
   "source": [
    "# 마지막이 타겟 레이블이므로 제외\n",
    "data = wineq[:, :-1]\n",
    "\n",
    "data, data.shape"
   ],
   "id": "b26a80f477a83efc",
   "outputs": [
    {
     "data": {
      "text/plain": [
       "(tensor([[ 7.0000,  0.2700,  0.3600,  ...,  3.0000,  0.4500,  8.8000],\n",
       "         [ 6.3000,  0.3000,  0.3400,  ...,  3.3000,  0.4900,  9.5000],\n",
       "         [ 8.1000,  0.2800,  0.4000,  ...,  3.2600,  0.4400, 10.1000],\n",
       "         ...,\n",
       "         [ 6.5000,  0.2400,  0.1900,  ...,  2.9900,  0.4600,  9.4000],\n",
       "         [ 5.5000,  0.2900,  0.3000,  ...,  3.3400,  0.3800, 12.8000],\n",
       "         [ 6.0000,  0.2100,  0.3800,  ...,  3.2600,  0.3200, 11.8000]]),\n",
       " torch.Size([4898, 11]))"
      ]
     },
     "execution_count": 6,
     "metadata": {},
     "output_type": "execute_result"
    }
   ],
   "execution_count": 6
  },
  {
   "metadata": {
    "ExecuteTime": {
     "end_time": "2025-06-18T10:01:41.939681Z",
     "start_time": "2025-06-18T10:01:41.937032Z"
    }
   },
   "cell_type": "code",
   "source": [
    "# 타겟 텐서 전치\n",
    "target = wineq[:, -1].long()  # 레이블은 정수형으로 변환"
   ],
   "id": "30f518fedcd66468",
   "outputs": [],
   "execution_count": 7
  },
  {
   "metadata": {},
   "cell_type": "markdown",
   "source": [
    "### 레이블을 처리하는 방식\n",
    "\n",
    "1. 위의 예제처럼 레이블을 정수형으로 변환하여 사용\n",
    "2. 원-핫 인코딩(One-hot encoding)으로 변환하여 사용\n",
    "\n",
    "레이블을 정수 벡터로 처리하는 것은 값에 순서가 있다는 것이며, 위의 예제는 와인 점수를 예측하는 문제를 풀려고 하기 때문에 적절하다.\n",
    "또, 값 사이의 거리도 의미가 있게 된다. 예를 들어, 와인 품질 점수 1과 3의 차이는 2와 4의 차이와 같다고 보는 것이다. 실제 품질이 점수 관계와 동일하다면 이는 적절하다.\n",
    "\n",
    "그러나 만약 타겟이 포도 품종처럼 서로 간에 완전히 이산적인 경우라면 값 사이의 순서나 거리 개념이 없는 원 핫 인코딩이 더 적절할 수 있다."
   ],
   "id": "dc210244610cdfa9"
  },
  {
   "metadata": {
    "ExecuteTime": {
     "end_time": "2025-06-18T10:19:27.239277Z",
     "start_time": "2025-06-18T10:19:27.234721Z"
    }
   },
   "cell_type": "code",
   "source": "target.unsqueeze(dim=1)",
   "id": "4b4a14bfa36f2294",
   "outputs": [
    {
     "data": {
      "text/plain": [
       "tensor([[6],\n",
       "        [6],\n",
       "        [6],\n",
       "        ...,\n",
       "        [6],\n",
       "        [7],\n",
       "        [6]])"
      ]
     },
     "execution_count": 9,
     "metadata": {},
     "output_type": "execute_result"
    }
   ],
   "execution_count": 9
  },
  {
   "metadata": {
    "ExecuteTime": {
     "end_time": "2025-06-18T10:24:22.109763Z",
     "start_time": "2025-06-18T10:24:22.105549Z"
    }
   },
   "cell_type": "code",
   "source": [
    "# 원핫 인코딩 사용 방법\n",
    "target_onehot = torch.zeros(target.shape[0], 10) # shape: (batch_size, num_classes)\n",
    "\n",
    "# scatter_ -> dim: _int, index: Tensor, src: Tensor\n",
    "target_onehot.scatter_(dim=1, index=target.unsqueeze(dim=1), src=1.0)\n",
    "# 두 번째 차원(클래스 축)에 대해 인덱스에 해당하는 위치에 1.0을 채운다."
   ],
   "id": "63e15f05593e926d",
   "outputs": [
    {
     "data": {
      "text/plain": [
       "tensor([[0., 0., 0.,  ..., 0., 0., 0.],\n",
       "        [0., 0., 0.,  ..., 0., 0., 0.],\n",
       "        [0., 0., 0.,  ..., 0., 0., 0.],\n",
       "        ...,\n",
       "        [0., 0., 0.,  ..., 0., 0., 0.],\n",
       "        [0., 0., 0.,  ..., 1., 0., 0.],\n",
       "        [0., 0., 0.,  ..., 0., 0., 0.]])"
      ]
     },
     "execution_count": 11,
     "metadata": {},
     "output_type": "execute_result"
    }
   ],
   "execution_count": 11
  },
  {
   "metadata": {
    "ExecuteTime": {
     "end_time": "2025-06-18T10:28:08.528475Z",
     "start_time": "2025-06-18T10:28:08.523673Z"
    }
   },
   "cell_type": "code",
   "source": [
    "# 입력 텐서 정규화\n",
    "mean = torch.mean(data, dim=0)\n",
    "var = torch.var(data, dim=0)\n",
    "\n",
    "data = (data - mean) / torch.sqrt(var + 1e-8)  # 분모에 작은 값 추가하여 0으로 나누는 것을 방지"
   ],
   "id": "14bcce67e44cee22",
   "outputs": [],
   "execution_count": 12
  }
 ],
 "metadata": {
  "kernelspec": {
   "display_name": "Python 3",
   "language": "python",
   "name": "python3"
  },
  "language_info": {
   "codemirror_mode": {
    "name": "ipython",
    "version": 2
   },
   "file_extension": ".py",
   "mimetype": "text/x-python",
   "name": "python",
   "nbconvert_exporter": "python",
   "pygments_lexer": "ipython2",
   "version": "2.7.6"
  }
 },
 "nbformat": 4,
 "nbformat_minor": 5
}
